{
  "nbformat": 4,
  "nbformat_minor": 0,
  "metadata": {
    "colab": {
      "provenance": []
    },
    "kernelspec": {
      "name": "python3",
      "display_name": "Python 3"
    },
    "language_info": {
      "name": "python"
    }
  },
  "cells": [
    {
      "cell_type": "code",
      "execution_count": 1,
      "metadata": {
        "colab": {
          "base_uri": "https://localhost:8080/",
          "height": 37
        },
        "id": "KcPRwA6JFV28",
        "outputId": "5207d8c7-3e99-43c8-f6e5-5f20b05b8b51"
      },
      "outputs": [
        {
          "output_type": "execute_result",
          "data": {
            "text/plain": [
              "'2.8.2'"
            ],
            "application/vnd.google.colaboratory.intrinsic+json": {
              "type": "string"
            }
          },
          "metadata": {},
          "execution_count": 1
        }
      ],
      "source": [
        "import tensorflow\n",
        "tensorflow.__version__"
      ]
    },
    {
      "cell_type": "code",
      "source": [
        "import random\n",
        "random.seed(0)\n",
        "import warnings\n",
        "warnings.filterwarnings('ignore')"
      ],
      "metadata": {
        "id": "5JslgtWlGUzu"
      },
      "execution_count": 3,
      "outputs": []
    },
    {
      "cell_type": "code",
      "source": [
        "from tensorflow.keras.datasets import boston_housing"
      ],
      "metadata": {
        "id": "uWh1ksQWGqbk"
      },
      "execution_count": 4,
      "outputs": []
    },
    {
      "cell_type": "code",
      "source": [
        "(features,actual_prices), _ = boston_housing.load_data(test_split=0)"
      ],
      "metadata": {
        "colab": {
          "base_uri": "https://localhost:8080/"
        },
        "id": "0oCJFgJHHGph",
        "outputId": "b7edcf9c-47c1-4f14-e6fe-951acffa609a"
      },
      "execution_count": 5,
      "outputs": [
        {
          "output_type": "stream",
          "name": "stdout",
          "text": [
            "Downloading data from https://storage.googleapis.com/tensorflow/tf-keras-datasets/boston_housing.npz\n",
            "57344/57026 [==============================] - 0s 0us/step\n",
            "65536/57026 [==================================] - 0s 0us/step\n"
          ]
        }
      ]
    },
    {
      "cell_type": "code",
      "source": [
        "features.shape"
      ],
      "metadata": {
        "colab": {
          "base_uri": "https://localhost:8080/"
        },
        "id": "tcPesIZFHY0c",
        "outputId": "d738c563-e2d8-4332-ef89-1c3a9fd24dae"
      },
      "execution_count": 6,
      "outputs": [
        {
          "output_type": "execute_result",
          "data": {
            "text/plain": [
              "(506, 13)"
            ]
          },
          "metadata": {},
          "execution_count": 6
        }
      ]
    },
    {
      "cell_type": "code",
      "source": [
        "actual_prices.shape"
      ],
      "metadata": {
        "colab": {
          "base_uri": "https://localhost:8080/"
        },
        "id": "YShBC6OdHgWF",
        "outputId": "e06fa265-eda3-4df9-e925-4352cab00e43"
      },
      "execution_count": 7,
      "outputs": [
        {
          "output_type": "execute_result",
          "data": {
            "text/plain": [
              "(506,)"
            ]
          },
          "metadata": {},
          "execution_count": 7
        }
      ]
    },
    {
      "cell_type": "markdown",
      "source": [
        "# Creation of a Neural Network "
      ],
      "metadata": {
        "id": "mj0EKgVTJ4TJ"
      }
    },
    {
      "cell_type": "code",
      "source": [
        "#initialize Sequential model\n",
        "model = tensorflow.keras.models.Sequential()\n",
        "#Normalize input data \n",
        "#Adding a hidden layer w.r.t the input data \n",
        "model.add(tensorflow.keras.layers.BatchNormalization(input_shape=(13,)))\n",
        "#Creating an output layer for prediction\n",
        "model.add(tensorflow.keras.layers.Dense(1))"
      ],
      "metadata": {
        "id": "GsZJaGK0HpOj"
      },
      "execution_count": 8,
      "outputs": []
    },
    {
      "cell_type": "markdown",
      "source": [
        "# Model Compilation"
      ],
      "metadata": {
        "id": "gLeqDxHpJ9iT"
      }
    },
    {
      "cell_type": "code",
      "source": [
        "#Compile the model\n",
        "#Compilation is configuring the model for training\n",
        "#Defining the optimizer and loss function or the hyperparameters \n",
        "model.compile(optimizer='sgd',loss='mse')"
      ],
      "metadata": {
        "id": "mO4ffCrEJT96"
      },
      "execution_count": 10,
      "outputs": []
    },
    {
      "cell_type": "markdown",
      "source": [
        "# Training of a Neural Network "
      ],
      "metadata": {
        "id": "yX-Wd9gdKBTm"
      }
    },
    {
      "cell_type": "code",
      "source": [
        "model.fit(features,actual_prices,epochs=200,validation_split=0.35)"
      ],
      "metadata": {
        "colab": {
          "base_uri": "https://localhost:8080/"
        },
        "id": "36y6JHGdJuoM",
        "outputId": "1bf65247-d660-4c00-f3b4-8bc52578d898"
      },
      "execution_count": 11,
      "outputs": [
        {
          "output_type": "stream",
          "name": "stdout",
          "text": [
            "Epoch 1/200\n",
            "11/11 [==============================] - 1s 18ms/step - loss: 270.4718 - val_loss: 821.9182\n",
            "Epoch 2/200\n",
            "11/11 [==============================] - 0s 4ms/step - loss: 52.3356 - val_loss: 43.8413\n",
            "Epoch 3/200\n",
            "11/11 [==============================] - 0s 4ms/step - loss: 41.0370 - val_loss: 29.7136\n",
            "Epoch 4/200\n",
            "11/11 [==============================] - 0s 4ms/step - loss: 35.2614 - val_loss: 33.7248\n",
            "Epoch 5/200\n",
            "11/11 [==============================] - 0s 5ms/step - loss: 33.5760 - val_loss: 57.9628\n",
            "Epoch 6/200\n",
            "11/11 [==============================] - 0s 4ms/step - loss: 29.4286 - val_loss: 71.2673\n",
            "Epoch 7/200\n",
            "11/11 [==============================] - 0s 4ms/step - loss: 33.1322 - val_loss: 26.7930\n",
            "Epoch 8/200\n",
            "11/11 [==============================] - 0s 6ms/step - loss: 34.2973 - val_loss: 61.2110\n",
            "Epoch 9/200\n",
            "11/11 [==============================] - 0s 4ms/step - loss: 27.4491 - val_loss: 57.1474\n",
            "Epoch 10/200\n",
            "11/11 [==============================] - 0s 6ms/step - loss: 28.7565 - val_loss: 48.1894\n",
            "Epoch 11/200\n",
            "11/11 [==============================] - 0s 5ms/step - loss: 42.8030 - val_loss: 52.2250\n",
            "Epoch 12/200\n",
            "11/11 [==============================] - 0s 7ms/step - loss: 34.9510 - val_loss: 39.3256\n",
            "Epoch 13/200\n",
            "11/11 [==============================] - 0s 4ms/step - loss: 29.1505 - val_loss: 30.8319\n",
            "Epoch 14/200\n",
            "11/11 [==============================] - 0s 4ms/step - loss: 27.6359 - val_loss: 28.3698\n",
            "Epoch 15/200\n",
            "11/11 [==============================] - 0s 6ms/step - loss: 29.6273 - val_loss: 34.8542\n",
            "Epoch 16/200\n",
            "11/11 [==============================] - 0s 5ms/step - loss: 30.7585 - val_loss: 26.1279\n",
            "Epoch 17/200\n",
            "11/11 [==============================] - 0s 4ms/step - loss: 28.2330 - val_loss: 28.9844\n",
            "Epoch 18/200\n",
            "11/11 [==============================] - 0s 5ms/step - loss: 30.0419 - val_loss: 27.7965\n",
            "Epoch 19/200\n",
            "11/11 [==============================] - 0s 6ms/step - loss: 27.6757 - val_loss: 24.6077\n",
            "Epoch 20/200\n",
            "11/11 [==============================] - 0s 4ms/step - loss: 30.6318 - val_loss: 33.8319\n",
            "Epoch 21/200\n",
            "11/11 [==============================] - 0s 4ms/step - loss: 26.2440 - val_loss: 38.5818\n",
            "Epoch 22/200\n",
            "11/11 [==============================] - 0s 4ms/step - loss: 27.9213 - val_loss: 29.7487\n",
            "Epoch 23/200\n",
            "11/11 [==============================] - 0s 6ms/step - loss: 27.1717 - val_loss: 53.6772\n",
            "Epoch 24/200\n",
            "11/11 [==============================] - 0s 4ms/step - loss: 26.2457 - val_loss: 33.6762\n",
            "Epoch 25/200\n",
            "11/11 [==============================] - 0s 6ms/step - loss: 34.4014 - val_loss: 34.3416\n",
            "Epoch 26/200\n",
            "11/11 [==============================] - 0s 5ms/step - loss: 28.9397 - val_loss: 26.5769\n",
            "Epoch 27/200\n",
            "11/11 [==============================] - 0s 5ms/step - loss: 27.9788 - val_loss: 59.2890\n",
            "Epoch 28/200\n",
            "11/11 [==============================] - 0s 4ms/step - loss: 29.7909 - val_loss: 26.1999\n",
            "Epoch 29/200\n",
            "11/11 [==============================] - 0s 5ms/step - loss: 26.8058 - val_loss: 31.5280\n",
            "Epoch 30/200\n",
            "11/11 [==============================] - 0s 4ms/step - loss: 26.9258 - val_loss: 54.0861\n",
            "Epoch 31/200\n",
            "11/11 [==============================] - 0s 6ms/step - loss: 25.4720 - val_loss: 44.9371\n",
            "Epoch 32/200\n",
            "11/11 [==============================] - 0s 5ms/step - loss: 30.8118 - val_loss: 68.9066\n",
            "Epoch 33/200\n",
            "11/11 [==============================] - 0s 4ms/step - loss: 32.2587 - val_loss: 37.6514\n",
            "Epoch 34/200\n",
            "11/11 [==============================] - 0s 6ms/step - loss: 25.6771 - val_loss: 28.3793\n",
            "Epoch 35/200\n",
            "11/11 [==============================] - 0s 5ms/step - loss: 28.3589 - val_loss: 38.1152\n",
            "Epoch 36/200\n",
            "11/11 [==============================] - 0s 6ms/step - loss: 28.9547 - val_loss: 24.5682\n",
            "Epoch 37/200\n",
            "11/11 [==============================] - 0s 6ms/step - loss: 32.3350 - val_loss: 51.0124\n",
            "Epoch 38/200\n",
            "11/11 [==============================] - 0s 6ms/step - loss: 28.3647 - val_loss: 71.1198\n",
            "Epoch 39/200\n",
            "11/11 [==============================] - 0s 5ms/step - loss: 37.6735 - val_loss: 26.8771\n",
            "Epoch 40/200\n",
            "11/11 [==============================] - 0s 4ms/step - loss: 26.3290 - val_loss: 23.7605\n",
            "Epoch 41/200\n",
            "11/11 [==============================] - 0s 6ms/step - loss: 27.6778 - val_loss: 43.5513\n",
            "Epoch 42/200\n",
            "11/11 [==============================] - 0s 5ms/step - loss: 29.8768 - val_loss: 25.7399\n",
            "Epoch 43/200\n",
            "11/11 [==============================] - 0s 4ms/step - loss: 26.5984 - val_loss: 29.5607\n",
            "Epoch 44/200\n",
            "11/11 [==============================] - 0s 5ms/step - loss: 32.3387 - val_loss: 40.1857\n",
            "Epoch 45/200\n",
            "11/11 [==============================] - 0s 5ms/step - loss: 27.1203 - val_loss: 26.9521\n",
            "Epoch 46/200\n",
            "11/11 [==============================] - 0s 4ms/step - loss: 29.1944 - val_loss: 56.4571\n",
            "Epoch 47/200\n",
            "11/11 [==============================] - 0s 4ms/step - loss: 31.4549 - val_loss: 23.2174\n",
            "Epoch 48/200\n",
            "11/11 [==============================] - 0s 5ms/step - loss: 25.0791 - val_loss: 86.7039\n",
            "Epoch 49/200\n",
            "11/11 [==============================] - 0s 6ms/step - loss: 35.8178 - val_loss: 40.5241\n",
            "Epoch 50/200\n",
            "11/11 [==============================] - 0s 5ms/step - loss: 28.4680 - val_loss: 23.8488\n",
            "Epoch 51/200\n",
            "11/11 [==============================] - 0s 4ms/step - loss: 26.3967 - val_loss: 45.3654\n",
            "Epoch 52/200\n",
            "11/11 [==============================] - 0s 5ms/step - loss: 33.5228 - val_loss: 30.7007\n",
            "Epoch 53/200\n",
            "11/11 [==============================] - 0s 5ms/step - loss: 30.3457 - val_loss: 26.6494\n",
            "Epoch 54/200\n",
            "11/11 [==============================] - 0s 5ms/step - loss: 32.8430 - val_loss: 24.2833\n",
            "Epoch 55/200\n",
            "11/11 [==============================] - 0s 4ms/step - loss: 29.6202 - val_loss: 23.7826\n",
            "Epoch 56/200\n",
            "11/11 [==============================] - 0s 4ms/step - loss: 29.0355 - val_loss: 39.1091\n",
            "Epoch 57/200\n",
            "11/11 [==============================] - 0s 5ms/step - loss: 30.4500 - val_loss: 30.2171\n",
            "Epoch 58/200\n",
            "11/11 [==============================] - 0s 5ms/step - loss: 28.8852 - val_loss: 26.3768\n",
            "Epoch 59/200\n",
            "11/11 [==============================] - 0s 4ms/step - loss: 24.7810 - val_loss: 25.9402\n",
            "Epoch 60/200\n",
            "11/11 [==============================] - 0s 4ms/step - loss: 28.5030 - val_loss: 28.1460\n",
            "Epoch 61/200\n",
            "11/11 [==============================] - 0s 5ms/step - loss: 30.0493 - val_loss: 61.5675\n",
            "Epoch 62/200\n",
            "11/11 [==============================] - 0s 4ms/step - loss: 35.9191 - val_loss: 23.9416\n",
            "Epoch 63/200\n",
            "11/11 [==============================] - 0s 5ms/step - loss: 30.7519 - val_loss: 26.5491\n",
            "Epoch 64/200\n",
            "11/11 [==============================] - 0s 5ms/step - loss: 29.7226 - val_loss: 31.8835\n",
            "Epoch 65/200\n",
            "11/11 [==============================] - 0s 6ms/step - loss: 31.0748 - val_loss: 25.2779\n",
            "Epoch 66/200\n",
            "11/11 [==============================] - 0s 5ms/step - loss: 28.3768 - val_loss: 30.8352\n",
            "Epoch 67/200\n",
            "11/11 [==============================] - 0s 6ms/step - loss: 28.0817 - val_loss: 23.4359\n",
            "Epoch 68/200\n",
            "11/11 [==============================] - 0s 5ms/step - loss: 28.5767 - val_loss: 41.8452\n",
            "Epoch 69/200\n",
            "11/11 [==============================] - 0s 4ms/step - loss: 29.9394 - val_loss: 26.2768\n",
            "Epoch 70/200\n",
            "11/11 [==============================] - 0s 4ms/step - loss: 28.8208 - val_loss: 60.5515\n",
            "Epoch 71/200\n",
            "11/11 [==============================] - 0s 4ms/step - loss: 34.0803 - val_loss: 25.0812\n",
            "Epoch 72/200\n",
            "11/11 [==============================] - 0s 4ms/step - loss: 26.9460 - val_loss: 23.6538\n",
            "Epoch 73/200\n",
            "11/11 [==============================] - 0s 4ms/step - loss: 26.4142 - val_loss: 27.7036\n",
            "Epoch 74/200\n",
            "11/11 [==============================] - 0s 4ms/step - loss: 33.0833 - val_loss: 25.9658\n",
            "Epoch 75/200\n",
            "11/11 [==============================] - 0s 5ms/step - loss: 25.1167 - val_loss: 31.0309\n",
            "Epoch 76/200\n",
            "11/11 [==============================] - 0s 6ms/step - loss: 33.2091 - val_loss: 44.3696\n",
            "Epoch 77/200\n",
            "11/11 [==============================] - 0s 4ms/step - loss: 26.2976 - val_loss: 26.6519\n",
            "Epoch 78/200\n",
            "11/11 [==============================] - 0s 4ms/step - loss: 39.8811 - val_loss: 33.5536\n",
            "Epoch 79/200\n",
            "11/11 [==============================] - 0s 5ms/step - loss: 25.4836 - val_loss: 28.0573\n",
            "Epoch 80/200\n",
            "11/11 [==============================] - 0s 4ms/step - loss: 27.8711 - val_loss: 25.9220\n",
            "Epoch 81/200\n",
            "11/11 [==============================] - 0s 5ms/step - loss: 28.6911 - val_loss: 31.7546\n",
            "Epoch 82/200\n",
            "11/11 [==============================] - 0s 4ms/step - loss: 27.1594 - val_loss: 23.2011\n",
            "Epoch 83/200\n",
            "11/11 [==============================] - 0s 6ms/step - loss: 28.5845 - val_loss: 24.3108\n",
            "Epoch 84/200\n",
            "11/11 [==============================] - 0s 4ms/step - loss: 26.7274 - val_loss: 39.2815\n",
            "Epoch 85/200\n",
            "11/11 [==============================] - 0s 6ms/step - loss: 32.4887 - val_loss: 29.3156\n",
            "Epoch 86/200\n",
            "11/11 [==============================] - 0s 4ms/step - loss: 27.3206 - val_loss: 32.6867\n",
            "Epoch 87/200\n",
            "11/11 [==============================] - 0s 4ms/step - loss: 29.8464 - val_loss: 27.0195\n",
            "Epoch 88/200\n",
            "11/11 [==============================] - 0s 6ms/step - loss: 25.8472 - val_loss: 52.6771\n",
            "Epoch 89/200\n",
            "11/11 [==============================] - 0s 5ms/step - loss: 33.6613 - val_loss: 34.8805\n",
            "Epoch 90/200\n",
            "11/11 [==============================] - 0s 5ms/step - loss: 27.1137 - val_loss: 23.2513\n",
            "Epoch 91/200\n",
            "11/11 [==============================] - 0s 4ms/step - loss: 26.2484 - val_loss: 52.4603\n",
            "Epoch 92/200\n",
            "11/11 [==============================] - 0s 6ms/step - loss: 29.3169 - val_loss: 78.8674\n",
            "Epoch 93/200\n",
            "11/11 [==============================] - 0s 6ms/step - loss: 35.4391 - val_loss: 32.7249\n",
            "Epoch 94/200\n",
            "11/11 [==============================] - 0s 5ms/step - loss: 30.7752 - val_loss: 50.7576\n",
            "Epoch 95/200\n",
            "11/11 [==============================] - 0s 4ms/step - loss: 39.0957 - val_loss: 26.6861\n",
            "Epoch 96/200\n",
            "11/11 [==============================] - 0s 5ms/step - loss: 27.9733 - val_loss: 24.6346\n",
            "Epoch 97/200\n",
            "11/11 [==============================] - 0s 5ms/step - loss: 26.0502 - val_loss: 24.7702\n",
            "Epoch 98/200\n",
            "11/11 [==============================] - 0s 5ms/step - loss: 27.1045 - val_loss: 26.5798\n",
            "Epoch 99/200\n",
            "11/11 [==============================] - 0s 4ms/step - loss: 28.2419 - val_loss: 26.5799\n",
            "Epoch 100/200\n",
            "11/11 [==============================] - 0s 5ms/step - loss: 27.6555 - val_loss: 35.0914\n",
            "Epoch 101/200\n",
            "11/11 [==============================] - 0s 4ms/step - loss: 31.8880 - val_loss: 28.5386\n",
            "Epoch 102/200\n",
            "11/11 [==============================] - 0s 4ms/step - loss: 27.8832 - val_loss: 22.9620\n",
            "Epoch 103/200\n",
            "11/11 [==============================] - 0s 5ms/step - loss: 28.3669 - val_loss: 27.3743\n",
            "Epoch 104/200\n",
            "11/11 [==============================] - 0s 4ms/step - loss: 28.2562 - val_loss: 23.2640\n",
            "Epoch 105/200\n",
            "11/11 [==============================] - 0s 6ms/step - loss: 27.6193 - val_loss: 22.6808\n",
            "Epoch 106/200\n",
            "11/11 [==============================] - 0s 5ms/step - loss: 30.2839 - val_loss: 25.3218\n",
            "Epoch 107/200\n",
            "11/11 [==============================] - 0s 6ms/step - loss: 25.7184 - val_loss: 25.9274\n",
            "Epoch 108/200\n",
            "11/11 [==============================] - 0s 5ms/step - loss: 25.8320 - val_loss: 31.2199\n",
            "Epoch 109/200\n",
            "11/11 [==============================] - 0s 4ms/step - loss: 33.9692 - val_loss: 23.4413\n",
            "Epoch 110/200\n",
            "11/11 [==============================] - 0s 4ms/step - loss: 27.6287 - val_loss: 29.4117\n",
            "Epoch 111/200\n",
            "11/11 [==============================] - 0s 4ms/step - loss: 30.7376 - val_loss: 32.6756\n",
            "Epoch 112/200\n",
            "11/11 [==============================] - 0s 4ms/step - loss: 28.3521 - val_loss: 35.8379\n",
            "Epoch 113/200\n",
            "11/11 [==============================] - 0s 5ms/step - loss: 31.5675 - val_loss: 22.9751\n",
            "Epoch 114/200\n",
            "11/11 [==============================] - 0s 5ms/step - loss: 30.8538 - val_loss: 29.1197\n",
            "Epoch 115/200\n",
            "11/11 [==============================] - 0s 5ms/step - loss: 24.3618 - val_loss: 24.1437\n",
            "Epoch 116/200\n",
            "11/11 [==============================] - 0s 4ms/step - loss: 30.2666 - val_loss: 28.5921\n",
            "Epoch 117/200\n",
            "11/11 [==============================] - 0s 4ms/step - loss: 33.2798 - val_loss: 25.2912\n",
            "Epoch 118/200\n",
            "11/11 [==============================] - 0s 4ms/step - loss: 27.2228 - val_loss: 43.7761\n",
            "Epoch 119/200\n",
            "11/11 [==============================] - 0s 6ms/step - loss: 31.1490 - val_loss: 34.9451\n",
            "Epoch 120/200\n",
            "11/11 [==============================] - 0s 4ms/step - loss: 27.5314 - val_loss: 24.8632\n",
            "Epoch 121/200\n",
            "11/11 [==============================] - 0s 4ms/step - loss: 26.3246 - val_loss: 25.5055\n",
            "Epoch 122/200\n",
            "11/11 [==============================] - 0s 4ms/step - loss: 31.7025 - val_loss: 25.5480\n",
            "Epoch 123/200\n",
            "11/11 [==============================] - 0s 5ms/step - loss: 30.1463 - val_loss: 36.1977\n",
            "Epoch 124/200\n",
            "11/11 [==============================] - 0s 4ms/step - loss: 31.2856 - val_loss: 33.2104\n",
            "Epoch 125/200\n",
            "11/11 [==============================] - 0s 5ms/step - loss: 29.9295 - val_loss: 26.6251\n",
            "Epoch 126/200\n",
            "11/11 [==============================] - 0s 4ms/step - loss: 33.3166 - val_loss: 36.0314\n",
            "Epoch 127/200\n",
            "11/11 [==============================] - 0s 6ms/step - loss: 27.6406 - val_loss: 33.8875\n",
            "Epoch 128/200\n",
            "11/11 [==============================] - 0s 6ms/step - loss: 26.7590 - val_loss: 22.7756\n",
            "Epoch 129/200\n",
            "11/11 [==============================] - 0s 5ms/step - loss: 25.2293 - val_loss: 38.3379\n",
            "Epoch 130/200\n",
            "11/11 [==============================] - 0s 4ms/step - loss: 27.3731 - val_loss: 23.9794\n",
            "Epoch 131/200\n",
            "11/11 [==============================] - 0s 4ms/step - loss: 25.1981 - val_loss: 23.4117\n",
            "Epoch 132/200\n",
            "11/11 [==============================] - 0s 4ms/step - loss: 26.4139 - val_loss: 23.7385\n",
            "Epoch 133/200\n",
            "11/11 [==============================] - 0s 5ms/step - loss: 28.8923 - val_loss: 26.6838\n",
            "Epoch 134/200\n",
            "11/11 [==============================] - 0s 5ms/step - loss: 25.9385 - val_loss: 33.6275\n",
            "Epoch 135/200\n",
            "11/11 [==============================] - 0s 5ms/step - loss: 27.7067 - val_loss: 36.6153\n",
            "Epoch 136/200\n",
            "11/11 [==============================] - 0s 5ms/step - loss: 27.7556 - val_loss: 32.8517\n",
            "Epoch 137/200\n",
            "11/11 [==============================] - 0s 5ms/step - loss: 33.5849 - val_loss: 22.9127\n",
            "Epoch 138/200\n",
            "11/11 [==============================] - 0s 4ms/step - loss: 28.8816 - val_loss: 41.4808\n",
            "Epoch 139/200\n",
            "11/11 [==============================] - 0s 5ms/step - loss: 30.2100 - val_loss: 26.5009\n",
            "Epoch 140/200\n",
            "11/11 [==============================] - 0s 4ms/step - loss: 25.6557 - val_loss: 24.7083\n",
            "Epoch 141/200\n",
            "11/11 [==============================] - 0s 5ms/step - loss: 32.1752 - val_loss: 28.2599\n",
            "Epoch 142/200\n",
            "11/11 [==============================] - 0s 4ms/step - loss: 28.5207 - val_loss: 29.7248\n",
            "Epoch 143/200\n",
            "11/11 [==============================] - 0s 5ms/step - loss: 26.2629 - val_loss: 34.6433\n",
            "Epoch 144/200\n",
            "11/11 [==============================] - 0s 4ms/step - loss: 26.9542 - val_loss: 30.2404\n",
            "Epoch 145/200\n",
            "11/11 [==============================] - 0s 5ms/step - loss: 30.3081 - val_loss: 24.5947\n",
            "Epoch 146/200\n",
            "11/11 [==============================] - 0s 4ms/step - loss: 29.2455 - val_loss: 60.5582\n",
            "Epoch 147/200\n",
            "11/11 [==============================] - 0s 4ms/step - loss: 31.8668 - val_loss: 25.3072\n",
            "Epoch 148/200\n",
            "11/11 [==============================] - 0s 5ms/step - loss: 34.3155 - val_loss: 34.3816\n",
            "Epoch 149/200\n",
            "11/11 [==============================] - 0s 4ms/step - loss: 29.1463 - val_loss: 24.2069\n",
            "Epoch 150/200\n",
            "11/11 [==============================] - 0s 5ms/step - loss: 26.6441 - val_loss: 24.5529\n",
            "Epoch 151/200\n",
            "11/11 [==============================] - 0s 4ms/step - loss: 25.7309 - val_loss: 25.4225\n",
            "Epoch 152/200\n",
            "11/11 [==============================] - 0s 4ms/step - loss: 25.4616 - val_loss: 24.7208\n",
            "Epoch 153/200\n",
            "11/11 [==============================] - 0s 5ms/step - loss: 29.3623 - val_loss: 23.3010\n",
            "Epoch 154/200\n",
            "11/11 [==============================] - 0s 5ms/step - loss: 25.6358 - val_loss: 26.2009\n",
            "Epoch 155/200\n",
            "11/11 [==============================] - 0s 5ms/step - loss: 29.7292 - val_loss: 62.1738\n",
            "Epoch 156/200\n",
            "11/11 [==============================] - 0s 5ms/step - loss: 27.6248 - val_loss: 30.9390\n",
            "Epoch 157/200\n",
            "11/11 [==============================] - 0s 4ms/step - loss: 30.2900 - val_loss: 23.3542\n",
            "Epoch 158/200\n",
            "11/11 [==============================] - 0s 4ms/step - loss: 27.6025 - val_loss: 30.9384\n",
            "Epoch 159/200\n",
            "11/11 [==============================] - 0s 6ms/step - loss: 38.5043 - val_loss: 27.0187\n",
            "Epoch 160/200\n",
            "11/11 [==============================] - 0s 6ms/step - loss: 26.9265 - val_loss: 33.3659\n",
            "Epoch 161/200\n",
            "11/11 [==============================] - 0s 4ms/step - loss: 30.0904 - val_loss: 25.9747\n",
            "Epoch 162/200\n",
            "11/11 [==============================] - 0s 4ms/step - loss: 27.7535 - val_loss: 24.3990\n",
            "Epoch 163/200\n",
            "11/11 [==============================] - 0s 5ms/step - loss: 27.0718 - val_loss: 51.9140\n",
            "Epoch 164/200\n",
            "11/11 [==============================] - 0s 4ms/step - loss: 31.3679 - val_loss: 25.2560\n",
            "Epoch 165/200\n",
            "11/11 [==============================] - 0s 4ms/step - loss: 23.4581 - val_loss: 32.8906\n",
            "Epoch 166/200\n",
            "11/11 [==============================] - 0s 6ms/step - loss: 26.2310 - val_loss: 24.6713\n",
            "Epoch 167/200\n",
            "11/11 [==============================] - 0s 6ms/step - loss: 29.5149 - val_loss: 28.1563\n",
            "Epoch 168/200\n",
            "11/11 [==============================] - 0s 4ms/step - loss: 28.5895 - val_loss: 24.9455\n",
            "Epoch 169/200\n",
            "11/11 [==============================] - 0s 6ms/step - loss: 28.9461 - val_loss: 29.4359\n",
            "Epoch 170/200\n",
            "11/11 [==============================] - 0s 4ms/step - loss: 30.9053 - val_loss: 24.5008\n",
            "Epoch 171/200\n",
            "11/11 [==============================] - 0s 5ms/step - loss: 28.2386 - val_loss: 24.5500\n",
            "Epoch 172/200\n",
            "11/11 [==============================] - 0s 6ms/step - loss: 25.0462 - val_loss: 25.6165\n",
            "Epoch 173/200\n",
            "11/11 [==============================] - 0s 5ms/step - loss: 26.2009 - val_loss: 31.5840\n",
            "Epoch 174/200\n",
            "11/11 [==============================] - 0s 6ms/step - loss: 30.2410 - val_loss: 25.6895\n",
            "Epoch 175/200\n",
            "11/11 [==============================] - 0s 4ms/step - loss: 26.2910 - val_loss: 34.0994\n",
            "Epoch 176/200\n",
            "11/11 [==============================] - 0s 6ms/step - loss: 33.7165 - val_loss: 26.3471\n",
            "Epoch 177/200\n",
            "11/11 [==============================] - 0s 5ms/step - loss: 28.2175 - val_loss: 28.3355\n",
            "Epoch 178/200\n",
            "11/11 [==============================] - 0s 4ms/step - loss: 26.7546 - val_loss: 23.8667\n",
            "Epoch 179/200\n",
            "11/11 [==============================] - 0s 4ms/step - loss: 25.3020 - val_loss: 23.8908\n",
            "Epoch 180/200\n",
            "11/11 [==============================] - 0s 5ms/step - loss: 26.8485 - val_loss: 23.4453\n",
            "Epoch 181/200\n",
            "11/11 [==============================] - 0s 4ms/step - loss: 27.6493 - val_loss: 27.0795\n",
            "Epoch 182/200\n",
            "11/11 [==============================] - 0s 4ms/step - loss: 33.2528 - val_loss: 36.7800\n",
            "Epoch 183/200\n",
            "11/11 [==============================] - 0s 6ms/step - loss: 25.4698 - val_loss: 27.8421\n",
            "Epoch 184/200\n",
            "11/11 [==============================] - 0s 5ms/step - loss: 31.8995 - val_loss: 44.6664\n",
            "Epoch 185/200\n",
            "11/11 [==============================] - 0s 4ms/step - loss: 27.4948 - val_loss: 35.8906\n",
            "Epoch 186/200\n",
            "11/11 [==============================] - 0s 4ms/step - loss: 25.9341 - val_loss: 27.4805\n",
            "Epoch 187/200\n",
            "11/11 [==============================] - 0s 4ms/step - loss: 29.9522 - val_loss: 26.1319\n",
            "Epoch 188/200\n",
            "11/11 [==============================] - 0s 5ms/step - loss: 26.2143 - val_loss: 22.6894\n",
            "Epoch 189/200\n",
            "11/11 [==============================] - 0s 6ms/step - loss: 28.8420 - val_loss: 49.2936\n",
            "Epoch 190/200\n",
            "11/11 [==============================] - 0s 6ms/step - loss: 33.2491 - val_loss: 25.1006\n",
            "Epoch 191/200\n",
            "11/11 [==============================] - 0s 4ms/step - loss: 29.1957 - val_loss: 23.1031\n",
            "Epoch 192/200\n",
            "11/11 [==============================] - 0s 5ms/step - loss: 29.7910 - val_loss: 41.6163\n",
            "Epoch 193/200\n",
            "11/11 [==============================] - 0s 6ms/step - loss: 30.4797 - val_loss: 24.7770\n",
            "Epoch 194/200\n",
            "11/11 [==============================] - 0s 4ms/step - loss: 31.8557 - val_loss: 30.5149\n",
            "Epoch 195/200\n",
            "11/11 [==============================] - 0s 4ms/step - loss: 31.1437 - val_loss: 30.7257\n",
            "Epoch 196/200\n",
            "11/11 [==============================] - 0s 4ms/step - loss: 30.4364 - val_loss: 24.1624\n",
            "Epoch 197/200\n",
            "11/11 [==============================] - 0s 5ms/step - loss: 25.4048 - val_loss: 26.8137\n",
            "Epoch 198/200\n",
            "11/11 [==============================] - 0s 5ms/step - loss: 27.1235 - val_loss: 38.8247\n",
            "Epoch 199/200\n",
            "11/11 [==============================] - 0s 4ms/step - loss: 27.2353 - val_loss: 27.4502\n",
            "Epoch 200/200\n",
            "11/11 [==============================] - 0s 4ms/step - loss: 33.4891 - val_loss: 26.9152\n"
          ]
        },
        {
          "output_type": "execute_result",
          "data": {
            "text/plain": [
              "<keras.callbacks.History at 0x7fd7134cb650>"
            ]
          },
          "metadata": {},
          "execution_count": 11
        }
      ]
    },
    {
      "cell_type": "code",
      "source": [
        "import numpy as np\n",
        "test_x = np.reshape([1,2,0,8,0,5,6,9,3.97,3.07,2.1,3.96,1.87],(-1,13))"
      ],
      "metadata": {
        "id": "7KypyhEnKWna"
      },
      "execution_count": 12,
      "outputs": []
    },
    {
      "cell_type": "code",
      "source": [
        "test_x"
      ],
      "metadata": {
        "colab": {
          "base_uri": "https://localhost:8080/"
        },
        "id": "arkpGHOnLqQ5",
        "outputId": "9bc6e8a7-7ad2-4c9a-e4f1-471179e64636"
      },
      "execution_count": 13,
      "outputs": [
        {
          "output_type": "execute_result",
          "data": {
            "text/plain": [
              "array([[1.  , 2.  , 0.  , 8.  , 0.  , 5.  , 6.  , 9.  , 3.97, 3.07, 2.1 ,\n",
              "        3.96, 1.87]])"
            ]
          },
          "metadata": {},
          "execution_count": 13
        }
      ]
    },
    {
      "cell_type": "code",
      "source": [
        "type(test_x)"
      ],
      "metadata": {
        "colab": {
          "base_uri": "https://localhost:8080/"
        },
        "id": "0kKuR4FKLrfG",
        "outputId": "b89a3387-3e96-4137-d55c-2b0a9a0a2669"
      },
      "execution_count": 14,
      "outputs": [
        {
          "output_type": "execute_result",
          "data": {
            "text/plain": [
              "numpy.ndarray"
            ]
          },
          "metadata": {},
          "execution_count": 14
        }
      ]
    },
    {
      "cell_type": "code",
      "source": [
        "test_x.shape"
      ],
      "metadata": {
        "colab": {
          "base_uri": "https://localhost:8080/"
        },
        "id": "xGXZnTkRLt2q",
        "outputId": "4b6167ee-820a-46d9-90e3-d5dea61b94fc"
      },
      "execution_count": 15,
      "outputs": [
        {
          "output_type": "execute_result",
          "data": {
            "text/plain": [
              "(1, 13)"
            ]
          },
          "metadata": {},
          "execution_count": 15
        }
      ]
    },
    {
      "cell_type": "code",
      "source": [
        "y_pred = model.predict(test_x)"
      ],
      "metadata": {
        "id": "n-D3y6ZWLwiw"
      },
      "execution_count": 16,
      "outputs": []
    },
    {
      "cell_type": "code",
      "source": [
        "y_pred"
      ],
      "metadata": {
        "colab": {
          "base_uri": "https://localhost:8080/"
        },
        "id": "a1vaGIPML4GW",
        "outputId": "62c51240-9962-48f1-f2a6-d6f0deb11369"
      },
      "execution_count": 17,
      "outputs": [
        {
          "output_type": "execute_result",
          "data": {
            "text/plain": [
              "array([[78.90018]], dtype=float32)"
            ]
          },
          "metadata": {},
          "execution_count": 17
        }
      ]
    },
    {
      "cell_type": "code",
      "source": [],
      "metadata": {
        "id": "vPDOmN0qL4yY"
      },
      "execution_count": null,
      "outputs": []
    }
  ]
}